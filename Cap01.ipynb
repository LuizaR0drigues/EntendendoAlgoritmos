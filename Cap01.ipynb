{
 "cells": [
  {
   "cell_type": "markdown",
   "metadata": {},
   "source": [
    "Capitulo 01\n",
    "\n",
    "Entendendo os principios de algoritmos e pesquisa binária"
   ]
  },
  {
   "cell_type": "code",
   "execution_count": 4,
   "metadata": {},
   "outputs": [
    {
     "name": "stdout",
     "output_type": "stream",
     "text": [
      "Meio: 49 | Chute 49 | Alto: 99 | Baixo: 0\n",
      "O chute é menor que o item!\n",
      "Meio: 74 | Chute 74 | Alto: 99 | Baixo: 50\n",
      "O chute é menor que o item!\n",
      "Meio: 87 | Chute 87 | Alto: 99 | Baixo: 75\n",
      "87\n"
     ]
    }
   ],
   "source": [
    "def pesquisa_binaria(lista, item):\n",
    "    baixo = 0\n",
    "    alto = len(lista)-1\n",
    "\n",
    "    while baixo <= alto:\n",
    "        meio =  (baixo +alto )//2\n",
    "        chute = lista[meio]\n",
    "        print(f\"Meio: {meio} | Chute {chute} | Alto: {alto} | Baixo: {baixo}\")\n",
    "        # se encontrarmos o elemento, retorne a  sua posição\n",
    "        if chute == item: \n",
    "            \n",
    "            return meio\n",
    "        #se passamos do elemento, atualiza alto como a metade do espaço que procuramos\n",
    "        if chute > item:\n",
    "            print(\"O chute é maior que o item!\")\n",
    "            alto = meio -1\n",
    "        #senao, avançamos uma metade do espaço \n",
    "        else:\n",
    "            print(\"O chute é menor que o item!\")\n",
    "            baixo = meio +1\n",
    "    return None\n",
    "\n",
    "\n",
    "#Int Main\n",
    "#criando um vetor de 0 a 99 \n",
    "vetor = [i for i in range(0, 100)]\n",
    "item = 87\n",
    "print(pesquisa_binaria(vetor, item))\n"
   ]
  },
  {
   "cell_type": "markdown",
   "metadata": {},
   "source": [
    "Exercicios\n",
    "\n",
    "1.1 - Log<2>(128) => 2⁷ = 128 logo é necessário até no máximo 7 tentativas pra um espaço com 128 amostras\n",
    "\n",
    "1.2 - Ao duplicar o tamanho da lista, tem-se que tam = 256 porem pela regra do logaritmo, isso signigica adionar 1 ao numero de tentativas logo temos que o numero maximo de tentativas será 8"
   ]
  },
  {
   "cell_type": "code",
   "execution_count": null,
   "metadata": {},
   "outputs": [],
   "source": []
  }
 ],
 "metadata": {
  "kernelspec": {
   "display_name": "Python 3",
   "language": "python",
   "name": "python3"
  },
  "language_info": {
   "codemirror_mode": {
    "name": "ipython",
    "version": 3
   },
   "file_extension": ".py",
   "mimetype": "text/x-python",
   "name": "python",
   "nbconvert_exporter": "python",
   "pygments_lexer": "ipython3",
   "version": "3.11.0rc1"
  }
 },
 "nbformat": 4,
 "nbformat_minor": 2
}
